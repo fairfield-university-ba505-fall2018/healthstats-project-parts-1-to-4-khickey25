{
 "cells": [
  {
   "cell_type": "markdown",
   "metadata": {},
   "source": [
    "# Health Stats Part 4: Pandas DataFrames"
   ]
  },
  {
   "cell_type": "markdown",
   "metadata": {},
   "source": [
    "<!--- Paste in your explanation from part 1.  --->"
   ]
  },
  {
   "cell_type": "markdown",
   "metadata": {},
   "source": [
    "<!--- Write an explanation of the Waist To Hips Ratio statistic used by health professionals. Please include an explanation of what it is used for, exactly how it is calculated, and how to interpret the results. Note: Formmatting matters. Make this as professional as you can using Markdown.  --->\n",
    "    The waist to hip ratio is a dimensionless number the measures the circumference ratio of the waist to hip, as the name implies. The most common uses of the Waist to Hip (WTH) ratio is an overall indicator of health; for instance, a higher WTH ratio is correlated with a higher number of health risks. \n",
    "    According to the World Health Organization, the WTH ratio is calculated by taking two measurements: the waist circumference and the hip circumference and dividing the waist measurement by the hip measurement. The waist measurement is taken at the midpoint between the lower margin of the last palpable ribs and the top of the iliac crest. The hip measurement is measured at the widest point of the buttocks. \n",
    "    \n",
    "    "
   ]
  },
  {
   "cell_type": "markdown",
   "metadata": {},
   "source": [
    "## Source Data "
   ]
  },
  {
   "cell_type": "markdown",
   "metadata": {},
   "source": [
    "<!--- Paste in your data definition table from part 2. --->\n",
    "*ID: The patient identification number\n",
    "*Waist: Waist measurement \n",
    "* Hip: Hip measurement\n",
    "*Gender: Indicates gender of patient as M (Male) or F (Female)"
   ]
  },
  {
   "cell_type": "markdown",
   "metadata": {},
   "source": [
    "## Data Import"
   ]
  },
  {
   "cell_type": "code",
   "execution_count": 5,
   "metadata": {},
   "outputs": [
    {
     "name": "stdout",
     "output_type": "stream",
     "text": [
      "    Waist  Hip Gender\n",
      "ID                   \n",
      "1      30   32      M\n",
      "2      32   37      M\n",
      "3      30   36      M\n",
      "4      33   39      M\n",
      "5      29   33      M\n",
      "6      32   38      M\n",
      "7      33   42      M\n",
      "8      30   40      M\n",
      "9      30   37      M\n",
      "10     32   39      M\n",
      "11     24   35      F\n",
      "12     25   37      F\n",
      "13     24   37      F\n",
      "14     22   34      F\n",
      "15     26   38      F\n",
      "16     26   37      F\n",
      "17     25   38      F\n",
      "18     26   37      F\n",
      "19     28   40      F\n",
      "20     23   35      F\n"
     ]
    }
   ],
   "source": [
    "# Goal: Extract the data from the file\n",
    "\n",
    "import numpy as np\n",
    "import pandas as pd\n",
    "\n",
    "health = pd.read_csv('w2h_data.csv', dtype = {'ID':np.int32, 'Waist': np.int32, 'Hip': np.int32, 'Gender': object})\n",
    "health.set_index('ID', inplace=True)\n",
    "print(health)"
   ]
  },
  {
   "cell_type": "markdown",
   "metadata": {},
   "source": [
    "## Calculations"
   ]
  },
  {
   "cell_type": "code",
   "execution_count": 11,
   "metadata": {
    "scrolled": true
   },
   "outputs": [
    {
     "name": "stdout",
     "output_type": "stream",
     "text": [
      "    Waist  Hip Gender  Shape\n",
      "ID                          \n",
      "1      30   32      M  Apple\n",
      "2      32   37      M   Pear\n",
      "3      30   36      M   Pear\n",
      "4      33   39      M   Pear\n",
      "5      29   33      M   Pear\n",
      "6      32   38      M   Pear\n",
      "7      33   42      M   Pear\n",
      "8      30   40      M   Pear\n",
      "9      30   37      M   Pear\n",
      "10     32   39      M   Pear\n",
      "11     24   35      F   Pear\n",
      "12     25   37      F   Pear\n",
      "13     24   37      F   Pear\n",
      "14     22   34      F   Pear\n",
      "15     26   38      F   Pear\n",
      "16     26   37      F   Pear\n",
      "17     25   38      F   Pear\n",
      "18     26   37      F   Pear\n",
      "19     28   40      F   Pear\n",
      "20     23   35      F   Pear\n"
     ]
    }
   ],
   "source": [
    "# Goal: For each row of data calculate and store the w2h_ratio and shape.\n",
    "\n",
    "#Calculate the male apples\n",
    "male_apple = np.logical_and(health['Gender']=='M', health['Waist']/health['Hip'] > 0.9)\n",
    "\n",
    "#Calculate the female apples\n",
    "female_apple = np.logical_and(health['Gender']=='F', health['Waist']/health['Hip']>.8)\n",
    "\n",
    "#Update data to include shape of individual\n",
    "apples = np.logical_or(male_apple, female_apple)\n",
    "health[\"Shape\"] = np.where(apples, 'Apple', 'Pear')\n",
    "print(health)\n"
   ]
  },
  {
   "cell_type": "markdown",
   "metadata": {},
   "source": [
    "## Output"
   ]
  },
  {
   "cell_type": "code",
   "execution_count": 10,
   "metadata": {},
   "outputs": [],
   "source": [
    "# Goal: pretty print the rows as an HTML table\n",
    "health.to_html\n",
    "health.to_csv('Statsresults.csv')"
   ]
  },
  {
   "cell_type": "code",
   "execution_count": null,
   "metadata": {},
   "outputs": [],
   "source": []
  }
 ],
 "metadata": {
  "kernelspec": {
   "display_name": "Python 3",
   "language": "python",
   "name": "python3"
  },
  "language_info": {
   "codemirror_mode": {
    "name": "ipython",
    "version": 3
   },
   "file_extension": ".py",
   "mimetype": "text/x-python",
   "name": "python",
   "nbconvert_exporter": "python",
   "pygments_lexer": "ipython3",
   "version": "3.6.5"
  }
 },
 "nbformat": 4,
 "nbformat_minor": 2
}
